{
 "cells": [
  {
   "cell_type": "code",
   "execution_count": 1,
   "id": "ef643033-4ca4-4725-86a3-66abe8031d69",
   "metadata": {},
   "outputs": [],
   "source": [
    "def initialize_inventory(products):\n",
    "    inventory = {}\n",
    "    print(\"Initializing inventory:\")\n",
    "    for product in products:\n",
    "        quantity = int(input(f\"Enter quantity for {product}: \"))\n",
    "        inventory[product] = quantity\n",
    "    return inventory\n"
   ]
  },
  {
   "cell_type": "code",
   "execution_count": 2,
   "id": "1094c6db-e4f8-4c70-bd72-68ecb026d8d3",
   "metadata": {},
   "outputs": [],
   "source": [
    "def get_customer_orders():\n",
    "    customer_orders = set()\n",
    "    print(\"Enter customer orders (type 'done' to finish):\")\n",
    "    while True:\n",
    "        product = input(\"Enter product name: \").strip()\n",
    "        if product.lower() == 'done':\n",
    "            break\n",
    "        customer_orders.add(product)\n",
    "    return customer_orders"
   ]
  },
  {
   "cell_type": "code",
   "execution_count": 3,
   "id": "4705722f-a1e4-46de-a410-35acd283ac04",
   "metadata": {},
   "outputs": [],
   "source": [
    "def update_inventory(customer_orders, inventory):\n",
    "    for product in customer_orders:\n",
    "        if product in inventory and inventory[product] > 0:\n",
    "            inventory[product] -= 1\n",
    "        elif product not in inventory:\n",
    "            print(f\"Warning: {product} not found in inventory.\")\n",
    "        else:\n",
    "            print(f\"Warning: {product} is out of stock!\")"
   ]
  },
  {
   "cell_type": "code",
   "execution_count": 4,
   "id": "4ae70406-d8b3-456a-8ec1-d5618d75d863",
   "metadata": {},
   "outputs": [],
   "source": [
    "def calculate_order_statistics(customer_orders, products):\n",
    "    total_ordered = len(customer_orders)\n",
    "    total_products = len(products)\n",
    "    percentage_unique = (total_ordered / total_products) * 100 if total_products > 0 else 0\n",
    "    return total_ordered, percentage_unique\n"
   ]
  },
  {
   "cell_type": "code",
   "execution_count": 5,
   "id": "c56f3dd2-3ed4-4f78-973e-35cbfdc807e5",
   "metadata": {},
   "outputs": [],
   "source": [
    "def print_order_statistics(order_statistics):\n",
    "    total_ordered, percentage_unique = order_statistics\n",
    "    print(\"Order Statistics:\")\n",
    "    print(f\"Total unique products ordered: {total_ordered}\")\n",
    "    print(f\"Percentage of unique products ordered: {percentage_unique:.2f}%\")\n"
   ]
  },
  {
   "cell_type": "code",
   "execution_count": 6,
   "id": "e08078ca-18fe-47a7-ac38-7f860e904756",
   "metadata": {},
   "outputs": [],
   "source": [
    "def print_updated_inventory(inventory):\n",
    "    print(\"Updated Inventory:\")\n",
    "    for product, quantity in inventory.items():\n",
    "        print(f\"{product}: {quantity}\")"
   ]
  },
  {
   "cell_type": "code",
   "execution_count": 7,
   "id": "6e37c635-e3aa-4ff4-b336-c70c7b4d7924",
   "metadata": {},
   "outputs": [
    {
     "name": "stdout",
     "output_type": "stream",
     "text": [
      "Initializing inventory:\n"
     ]
    },
    {
     "name": "stdin",
     "output_type": "stream",
     "text": [
      "Enter quantity for t-shirt:  9\n",
      "Enter quantity for mug:  8\n",
      "Enter quantity for hat:  7\n",
      "Enter quantity for book:  6\n",
      "Enter quantity for keychain:  5\n"
     ]
    },
    {
     "name": "stdout",
     "output_type": "stream",
     "text": [
      "Enter customer orders (type 'done' to finish):\n"
     ]
    },
    {
     "name": "stdin",
     "output_type": "stream",
     "text": [
      "Enter product name:  hat\n",
      "Enter product name:  done\n"
     ]
    },
    {
     "name": "stdout",
     "output_type": "stream",
     "text": [
      "Order Statistics:\n",
      "Total unique products ordered: 1\n",
      "Percentage of unique products ordered: 20.00%\n",
      "Updated Inventory:\n",
      "t-shirt: 9\n",
      "mug: 8\n",
      "hat: 6\n",
      "book: 6\n",
      "keychain: 5\n"
     ]
    }
   ],
   "source": [
    "def main():\n",
    "    products = [\"t-shirt\", \"mug\", \"hat\", \"book\", \"keychain\"]\n",
    "    inventory = initialize_inventory(products)\n",
    "    customer_orders = get_customer_orders()\n",
    "    update_inventory(customer_orders, inventory)\n",
    "    stats = calculate_order_statistics(customer_orders, products)\n",
    "    print_order_statistics(stats)\n",
    "    print_updated_inventory(inventory)\n",
    "\n",
    "\n",
    "main()"
   ]
  },
  {
   "cell_type": "code",
   "execution_count": null,
   "id": "77ab9c43-b32e-48df-a829-c1e681b2bf7b",
   "metadata": {},
   "outputs": [],
   "source": []
  }
 ],
 "metadata": {
  "kernelspec": {
   "display_name": "Python 3 (ipykernel)",
   "language": "python",
   "name": "python3"
  },
  "language_info": {
   "codemirror_mode": {
    "name": "ipython",
    "version": 3
   },
   "file_extension": ".py",
   "mimetype": "text/x-python",
   "name": "python",
   "nbconvert_exporter": "python",
   "pygments_lexer": "ipython3",
   "version": "3.12.7"
  }
 },
 "nbformat": 4,
 "nbformat_minor": 5
}
